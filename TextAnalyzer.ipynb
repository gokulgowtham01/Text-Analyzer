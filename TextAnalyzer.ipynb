{
 "cells": [
  {
   "cell_type": "markdown",
   "id": "a2f45ce0-b3e0-42a6-a3b9-8dc8dea8583f",
   "metadata": {},
   "source": [
    "## What is text analysis?\n",
    "#### Text analysis, also known as text mining or text analytics, refers to the process of extracting meaningful information and insights from textual data."
   ]
  },
  {
   "cell_type": "markdown",
   "id": "5d3ed385-9de3-4c14-a62d-eddf9d4c2d89",
   "metadata": {},
   "source": [
    "Task 1. String in lowercase: You want to pre-process the customer feedback by converting all the text to lowercase. This step helps standardize the text. Lower casing the text allows you to focus on the content rather than the specific letter casing.\n",
    "\n",
    "Task 2. Frequency of all words in a given string: After converting the text to lowercase, you want to determine the frequency of each word in the customer feedback. This information will help you identify which words are used more frequently, indicating the key aspects or topics that customers are mentioning in their reviews. By analyzing the word frequencies, you can gain insights into the most common issues raised by customers.\n",
    "\n",
    "Task 3. Frequency of a specific word: In addition to analyzing the overall word frequencies, you want to specifically track the frequency of a particular word that is relevant to your analysis. For example, you might be interested in monitoring how often the word \"reliable\" appears in customer reviews to gauge customer sentiment about the product's reliability. By focusing on the frequency of a specific word, you can gain a deeper understanding of customer opinions or preferences related to that particular aspect."
   ]
  },
  {
   "cell_type": "markdown",
   "id": "d9603fa7-14cc-4375-9383-fc3d1edbbb4d",
   "metadata": {},
   "source": [
    "#### Task1"
   ]
  },
  {
   "cell_type": "markdown",
   "id": "3485f47d-b62a-4278-be5c-6f34cb2b4fde",
   "metadata": {},
   "source": [
    "Step 1: Define a string¶\n",
    "\"Lorem ipsum dolor! diam amet, consetetur Lorem magna. sed diam nonumy eirmod tempor. diam et labore? et diam magna. et diam amet.\"\n",
    "Hint: Use a variable and store the above string."
   ]
  },
  {
   "cell_type": "code",
   "execution_count": 2,
   "id": "f16d6edd-80f3-4288-9248-0c538eaca880",
   "metadata": {},
   "outputs": [],
   "source": [
    "GivenString=\"Lorem ipsum dolor! diam amet, consetetur Lorem magna. sed diam nonumy eirmod tempor. diam et labore? et diam magna. et diam amet.\""
   ]
  },
  {
   "cell_type": "markdown",
   "id": "8a0fb139-0237-4ee6-8b7b-07da2b0dcde6",
   "metadata": {},
   "source": [
    "Step 2: Define the class and its attributes¶\n",
    "Create a class named TextAnalyzer.\n",
    "Define the constructor __init__ method that takes a text argument."
   ]
  },
  {
   "cell_type": "markdown",
   "id": "9fb07c41-f0ec-4337-aa2e-44283d4abc0d",
   "metadata": {},
   "source": [
    "Inside the constructor, convert the text argument to lowercase using the lower() method.\n",
    "Then, remove punctuation marks (periods, exclamation marks, commas, and question marks) from the text using the replace() method.\n",
    "Finally, assign the formatted text to a new attribute called fmtText.\n",
    "Here you will be updating the above TextAnalyzer class with the points mentioned above."
   ]
  },
  {
   "cell_type": "code",
   "execution_count": 12,
   "id": "2df4a698-14b3-4ba3-b3b3-0a44ab0cff28",
   "metadata": {},
   "outputs": [],
   "source": [
    "class TextAnalyzer(object):\n",
    "    def __init__(self,text):\n",
    "        formattedText=text.replace('!','').replace(',','').replace('.','').replace('?','')\n",
    "        formattedText=formattedText.lower()\n",
    "        self.fmtText=formattedText"
   ]
  },
  {
   "cell_type": "markdown",
   "id": "8ec4e118-e5f1-4d65-8a99-60c8ced064d3",
   "metadata": {},
   "source": [
    "Step 4: Implement a code to count the frequency of all unique words\n",
    "In this step, you will implement the freqAll() method with the below parameters:\n",
    "Split the fmtText attribute into individual words using the split() method.\n",
    "Create an empty dictionary to store the word frequency.\n",
    "Iterate over the list of words and update the frequency dictionary accordingly.\n",
    "Use count method for counting the occurence.\n",
    "Return the frequency dictionary.\n",
    "Update the above TextAnalyzer class with points mentioned above."
   ]
  },
  {
   "cell_type": "code",
   "execution_count": 11,
   "id": "31daac4a-9401-421d-9e36-2d3c52195385",
   "metadata": {},
   "outputs": [],
   "source": [
    "class TextAnalyzer(object):\n",
    "    \n",
    "    def __init__(self,text):\n",
    "        formattedText=text.replace('!','').replace(',','').replace('.','').replace('?','')\n",
    "        formattedText=formattedText.lower()\n",
    "        self.fmtText=formattedText\n",
    "    \n",
    "    def freqAll(self):\n",
    "        WordList=self.fmtText.split(' ')\n",
    "        \n",
    "        freqMap={}\n",
    "        for word in set(WordList):\n",
    "            freqMap[word]=WordList.count(word)\n",
    "        \n",
    "        return freqMap"
   ]
  },
  {
   "cell_type": "markdown",
   "id": "af98abf8-b878-4c8e-ba81-14b99ad676e7",
   "metadata": {},
   "source": [
    "Step 5: Implement a code to count the frequency of a specific word¶\n",
    "\n",
    "you have to implement the freqOf(word) method that takes a word argument:\n",
    "\n",
    "Create a method and pass the word that needs to be found.\n",
    "Get the freqAll method to look for count and check if that word is in the list.\n",
    "Return the count. If the word is not found, the count returned is 0.\n",
    "Update the above TextAnalyzer class with the points mentioned above."
   ]
  },
  {
   "cell_type": "code",
   "execution_count": 19,
   "id": "4e830feb-407d-4582-a254-8d41b5209651",
   "metadata": {},
   "outputs": [
    {
     "name": "stdout",
     "output_type": "stream",
     "text": [
      "FormattedText: lorem ipsum dolor diam amet consetetur lorem magna sed diam nonumy eirmod tempor diam et labore et diam magna et diam amet\n",
      "{'labore': 1, 'eirmod': 1, 'dolor': 1, 'diam': 5, 'tempor': 1, 'sed': 1, 'ipsum': 1, 'nonumy': 1, 'amet': 2, 'et': 3, 'lorem': 2, 'consetetur': 1, 'magna': 2}\n",
      "The word lorem appears 2 times.\n"
     ]
    }
   ],
   "source": [
    "class TextAnalyzer(object):\n",
    "    \n",
    "    def __init__(self,text):\n",
    "        formattedText=text.replace('!','').replace(',','').replace('.','').replace('?','')    #remove punctuation\n",
    "        formattedText=formattedText.lower()                                                   #make text lowercase\n",
    "        self.fmtText=formattedText\n",
    "    \n",
    "    def freqAll(self):\n",
    "        WordList=self.fmtText.split(' ')                                                      #split text into words\n",
    "        \n",
    "        freqMap={}                                                                            #Create dictionary\n",
    "        for word in set(WordList):                                                            #use set to remove duplicates in list\n",
    "            freqMap[word]=WordList.count(word)\n",
    "        \n",
    "        return freqMap\n",
    "    \n",
    "    def freqOf(self,word):\n",
    "        freqDict=self.freqAll()                                                                #get frequency map\n",
    "        \n",
    "        if word in freqDict:\n",
    "            return freqDict[word]\n",
    "        else:\n",
    "            return 0\n",
    "        \n",
    "Analyzer = TextAnalyzer(GivenString)\n",
    "print(\"FormattedText:\",Analyzer.fmtText)\n",
    "freqMap=Analyzer.freqAll()\n",
    "print(freqMap)\n",
    "\n",
    "word = \"lorem\"\n",
    "frequency=Analyzer.freqOf(word)\n",
    "print(\"The word\",word,\"appears\",frequency,\"times.\")"
   ]
  },
  {
   "cell_type": "code",
   "execution_count": null,
   "id": "c6559301-ee81-4578-8f12-541aafb4c087",
   "metadata": {},
   "outputs": [],
   "source": []
  }
 ],
 "metadata": {
  "kernelspec": {
   "display_name": "Python 3 (ipykernel)",
   "language": "python",
   "name": "python3"
  },
  "language_info": {
   "codemirror_mode": {
    "name": "ipython",
    "version": 3
   },
   "file_extension": ".py",
   "mimetype": "text/x-python",
   "name": "python",
   "nbconvert_exporter": "python",
   "pygments_lexer": "ipython3",
   "version": "3.9.12"
  }
 },
 "nbformat": 4,
 "nbformat_minor": 5
}
